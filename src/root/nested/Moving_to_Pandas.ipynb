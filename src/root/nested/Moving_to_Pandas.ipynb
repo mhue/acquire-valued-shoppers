{
 "metadata": {
  "name": ""
 },
 "nbformat": 3,
 "nbformat_minor": 0,
 "worksheets": [
  {
   "cells": [
    {
     "cell_type": "code",
     "collapsed": false,
     "input": [
      "import pandas as pd\n",
      "import numpy as np\n",
      "from os import listdir\n",
      "from os.path import isfile, join\n",
      "from ShoppersChallenge import getIds, readTargets\n",
      "\n",
      "#pd.set_option('display.max_columns', None)\n",
      "\n",
      "#get the files from the 'features' directory\n",
      "FeaturesPath = 'features/'\n",
      "FeatureFiles = [ f for f in listdir(FeaturesPath) if isfile(join(FeaturesPath,f)) ]\n",
      "\n",
      "#load the files inside a dataframe\n",
      "features = pd.DataFrame()\n",
      "for FileName in FeatureFiles:\n",
      "    feature = pd.read_csv('features/' + FileName, delimiter=' ', header=None).ix[:,1]\n",
      "    if feature.std()==0:\n",
      "        #print FileName[:-4] + ' is constant, ignoring...'\n",
      "        pass\n",
      "    else:\n",
      "        features[FileName[:-4]] = feature\n",
      "\n",
      "#set the labels as customer ids        \n",
      "features.set_index(np.array(pd.read_csv('features/market_imp.txt', delimiter=' ', header=None).ix[:,0]).astype(str),inplace=True)\n",
      "\n",
      "#features.values.nbytes + features.index.nbytes + features.columns.nbytes\n",
      "#features.sort_index(inplace=True)\n",
      "\n",
      "#subset train and test\n",
      "trainIds = getIds('train')\n",
      "testIds = getIds('test')\n",
      "train = features.loc[trainIds]\n",
      "test = features.loc[testIds]\n",
      "\n",
      "#get target\n",
      "target = readTargets()"
     ],
     "language": "python",
     "metadata": {},
     "outputs": [],
     "prompt_number": 1
    },
    {
     "cell_type": "code",
     "collapsed": false,
     "input": [
      "from sklearn.preprocessing import MinMaxScaler\n",
      "\n",
      "train_unscaled=train\n",
      "test_unscaled=test\n",
      "\n",
      "scaler = MinMaxScaler()\n",
      "scaler.fit(train.append(test))\n",
      "\n",
      "feature_names = train_unscaled.columns.values\n",
      "\n",
      "train = scaler.transform(train)\n",
      "test = scaler.transform(test)\n",
      "\n",
      "train = pd.DataFrame(train, columns=feature_names, index=trainIds)\n",
      "test = pd.DataFrame(test, columns=feature_names, index=testIds)"
     ],
     "language": "python",
     "metadata": {},
     "outputs": [],
     "prompt_number": 3
    },
    {
     "cell_type": "code",
     "collapsed": false,
     "input": [
      "#stupid validation\n",
      "from ShoppersChallenge import getTrainingSubsetIds\n",
      "rows_tr = getTrainingSubsetIds('2013-03-01', '2013-04-01')\n",
      "rows_val = set(target.keys()) - set(rows_tr)\n",
      "train_tr = train.ix[rows_tr]\n",
      "train_val = train.ix[rows_val]\n",
      "target_tr = [target[k] for k in rows_tr]\n",
      "target_val = [target[k] for k in rows_val]\n",
      "\n",
      "from sklearn.ensemble import RandomForestRegressor\n",
      "classifier = RandomForestRegressor(n_estimators=10)\n",
      "clf = classifier.fit(train_tr, target_tr)\n",
      "pred_tr = clf.predict(train_tr)\n",
      "pred_val = clf.predict(train_val)\n",
      "\n",
      "from sklearn.metrics import roc_auc_score\n",
      "print 'ROC train score: ',roc_auc_score(target_tr,pred_tr)\n",
      "print 'ROC test score: ',roc_auc_score(target_val,pred_val)\n",
      "\n",
      "import pylab as pl\n",
      "###############################################################################\n",
      "# Plot feature importance\n",
      "feature_importance = clf.feature_importances_\n",
      "# make importances relative to max importance\n",
      "feature_importance = 100.0 * (feature_importance / feature_importance.max())\n",
      "sorted_idx = np.argsort(feature_importance)\n",
      "pos = np.arange(sorted_idx.shape[0]) + .5\n",
      "pl.subplot(1, 2, 2)\n",
      "pl.barh(pos, feature_importance[sorted_idx], align='center')\n",
      "pl.yticks(pos, train.columns.values[sorted_idx])\n",
      "pl.xlabel('Relative Importance')\n",
      "pl.title('Variable Importance')\n",
      "pl.show()"
     ],
     "language": "python",
     "metadata": {},
     "outputs": [
      {
       "output_type": "stream",
       "stream": "stdout",
       "text": [
        "ROC train score:  "
       ]
      },
      {
       "output_type": "stream",
       "stream": "stdout",
       "text": [
        "0.999391256143\n",
        "ROC test score:  0.608307172325\n"
       ]
      }
     ],
     "prompt_number": 4
    },
    {
     "cell_type": "code",
     "collapsed": false,
     "input": [
      "#This snippet uses SeleckKBest to find a good subset for training\n",
      "'''\n",
      "from sklearn.feature_selection import SelectKBest, chi2\n",
      "from sklearn.metrics import roc_auc_score\n",
      "#for k in range(10):#range(len(feature_names)):\n",
      "k=10\n",
      "ch2 = SelectKBest(chi2,k)\n",
      "sub_tr = ch2.fit_transform(train_tr, target_tr)\n",
      "sub_val = ch2.transform(train_val)\n",
      "print feature_names[ch2.get_support()]\n",
      "\n",
      "clf = classifier.fit(sub_tr, target_tr)\n",
      "pred_tr = clf.predict(sub_tr)\n",
      "pred_val = clf.predict(sub_val)\n",
      "\n",
      "print 'ROC train score: ',roc_auc_score(target_tr,pred_tr)\n",
      "print 'ROC test score: ',roc_auc_score(target_val,pred_val)\n",
      "'''"
     ],
     "language": "python",
     "metadata": {},
     "outputs": [
      {
       "output_type": "stream",
       "stream": "stdout",
       "text": [
        "['offer_value' 'market_imp' 'offer_value_inv' 'company_category_b'\n",
        " 'category_brand_b' 'brand_b' 'chain_imp' 'company_category_brand_b'\n",
        " 'company_b' 'category_b']\n",
        "ROC train score: "
       ]
      },
      {
       "output_type": "stream",
       "stream": "stdout",
       "text": [
        " 0.711754745951\n",
        "ROC test score:  0.59179849313\n"
       ]
      }
     ],
     "prompt_number": 44
    },
    {
     "cell_type": "code",
     "collapsed": false,
     "input": [
      "#Create submission\n",
      "from sklearn.ensemble import RandomForestRegressor\n",
      "classifier = RandomForestRegressor(n_estimators=10)\n",
      "\n",
      "model = classifier.fit(train, target.values())\n",
      "#model = classifier.fit(train[feature_names[ch2.get_support()]], target.values())\n",
      "\n",
      "pred = model.predict(test)\n",
      "#pred = model.predict(test[feature_names[ch2.get_support()]])\n",
      "\n",
      "submission = pd.DataFrame({'id': pd.Series(test.index.values), 'repeatProbability': pd.Series(pred)})\n",
      "submission.to_csv('sklearn2.csv', sep=',', index=False)\n",
      "\n",
      "print 'percantage of returning customers in train set:',float(sum(target.values()))/len(target.values())\n",
      "print 'percantage of returning customers in test set:',float(sum(pred))/len(pred)"
     ],
     "language": "python",
     "metadata": {},
     "outputs": [
      {
       "output_type": "stream",
       "stream": "stdout",
       "text": [
        "percantage of returning customers in train set: 0.271390817021\n",
        "percantage of returning customers in test set: "
       ]
      },
      {
       "output_type": "stream",
       "stream": "stdout",
       "text": [
        "0.340736975522\n"
       ]
      }
     ],
     "prompt_number": 5
    }
   ],
   "metadata": {}
  }
 ]
}